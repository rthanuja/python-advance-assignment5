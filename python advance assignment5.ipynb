{
 "cells": [
  {
   "cell_type": "code",
   "execution_count": null,
   "id": "8a891f5d",
   "metadata": {},
   "outputs": [],
   "source": [
    "Q1. What is the meaning of multiple inheritance?\n",
    "\n",
    "If a class is inherited from more than one base class,it is called as multiple inheritance\n",
    "\n",
    "class class1:\n",
    "    #attributes and methods\n",
    "class class2:\n",
    "    #attributes and methods\n",
    "class class3(class1,class2):\n",
    "    #attributes and methods"
   ]
  },
  {
   "cell_type": "code",
   "execution_count": null,
   "id": "1f1ec5bb",
   "metadata": {},
   "outputs": [],
   "source": [
    "#Q2. What is the concept of delegation?\n",
    "\n",
    "the delegation pattern is an object-oriented design pattern that allows object composition to achieve the same\n",
    "code reuse as inheritance. \n",
    "1.One simple way of delegation would be to just create wrapper methods.\n",
    "2.we can overwrite the composite_class __getattr__ method and check and see if the non-existent attribute(the ones which\n",
    " doesnot start with an underscore) exists in component_class. \n",
    " If it is, we can use the getattr method to call the requested method on the appropriate class."
   ]
  },
  {
   "cell_type": "code",
   "execution_count": 1,
   "id": "8a66af72",
   "metadata": {},
   "outputs": [
    {
     "name": "stdout",
     "output_type": "stream",
     "text": [
      "method1 of class A\n"
     ]
    }
   ],
   "source": [
    "class component_class:\n",
    "    def method1(self):\n",
    "        print(\"method1 of class A\")\n",
    "class composite_class:\n",
    "    def __init__(self):\n",
    "        self.obj=component_class()\n",
    "    def method1(self):\n",
    "        self.obj.method1()\n",
    "c=composite_class()\n",
    "c.method1()"
   ]
  },
  {
   "cell_type": "code",
   "execution_count": 2,
   "id": "1305a731",
   "metadata": {},
   "outputs": [
    {
     "name": "stdout",
     "output_type": "stream",
     "text": [
      "method1 of class A\n"
     ]
    }
   ],
   "source": [
    "class component_class:\n",
    "    def method1(self):\n",
    "        print(\"method1 of class A\")\n",
    "class composite_class:\n",
    "    def __init__(self):\n",
    "        self.obj=component_class()\n",
    "        self.composite_class_methods=[f for f in dir(component_class) if not f.startswith('_')]\n",
    "    def __getattr__(self,func):\n",
    "        def method(*a):\n",
    "            if func in self.composite_class_methods:\n",
    "                return getattr(self.obj, func)(*a)\n",
    "        return method\n",
    "c=composite_class()\n",
    "c.method1()"
   ]
  },
  {
   "cell_type": "code",
   "execution_count": null,
   "id": "d728f88b",
   "metadata": {},
   "outputs": [],
   "source": [
    "#Q3. What is the concept of composition?\n",
    "\n",
    "Composition is a concept that models a has a relationship.In composition, a class known as composite contains \n",
    "an object of another class known to as component.In other words, a composite class has a component of another class.\n",
    "In Composition, we can only use that component class we can not modify or extend the functionality of it.\n",
    "It will not provide extra features.So, when we need to use the class as it is without any modification,\n",
    "the composition is recommended ."
   ]
  },
  {
   "cell_type": "code",
   "execution_count": 3,
   "id": "ad6da668",
   "metadata": {},
   "outputs": [
    {
     "name": "stdout",
     "output_type": "stream",
     "text": [
      "method1 of class A\n"
     ]
    }
   ],
   "source": [
    "class component_class:\n",
    "    def method1(self):\n",
    "        print(\"method1 of class A\")\n",
    "class composite_class:\n",
    "    def __init__(self):\n",
    "        self.obj=component_class()\n",
    "    def method2(self):\n",
    "        self.obj.method1()\n",
    "        \n",
    "c=composite_class()\n",
    "c.method2()\n",
    "        "
   ]
  },
  {
   "cell_type": "code",
   "execution_count": null,
   "id": "1834be59",
   "metadata": {},
   "outputs": [],
   "source": [
    "#Q4. What are bound methods and how do we use them?\n",
    "\n",
    "A bound method is the one which is dependent on the instance of the class as the first argument.\n",
    "It passes the instance as the first argument which is used to access the variables and functions(the methods with the “self” \n",
    "argument at the beginning).\n",
    "\n",
    "class temp1:\n",
    "    def method1(self,a):\n",
    "        #code\n",
    "    def method2(self):\n",
    "        print(\"this is method2\")\n",
    "        \n",
    "#in newer versions of python,all functions in the class are by default bound methods.\n",
    "    \n"
   ]
  },
  {
   "cell_type": "code",
   "execution_count": null,
   "id": "da161653",
   "metadata": {},
   "outputs": [],
   "source": [
    "#Q5. What is the purpose of pseudoprivate attributes?\n",
    "\n",
    "The main purpose of pseudoprivate attributes is to localize a name to the class that created it.\n",
    "That is, this feature is mostly intended to avoid namespace collisions in instances .\n",
    "Name mangling happens only in class statements and only for names you write with two leading underscores.\n",
    "Within a class, though, it happens to every name preceded with double underscores wherever they appear. \n",
    "This includes both method names and instance attributes. \n",
    "For example, an instance attribute reference self.__X is transformed to self._classname__X. Since more than one class\n",
    "may add attributes to an instance, this mangling helps avoid clashes."
   ]
  }
 ],
 "metadata": {
  "kernelspec": {
   "display_name": "Python 3 (ipykernel)",
   "language": "python",
   "name": "python3"
  },
  "language_info": {
   "codemirror_mode": {
    "name": "ipython",
    "version": 3
   },
   "file_extension": ".py",
   "mimetype": "text/x-python",
   "name": "python",
   "nbconvert_exporter": "python",
   "pygments_lexer": "ipython3",
   "version": "3.10.9"
  }
 },
 "nbformat": 4,
 "nbformat_minor": 5
}
